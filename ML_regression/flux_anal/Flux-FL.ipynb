{
 "cells": [
  {
   "cell_type": "code",
   "execution_count": 1,
   "id": "68ed429b",
   "metadata": {},
   "outputs": [],
   "source": [
    "import tensorflow as tf\n",
    "import os\n",
    "import glob\n",
    "import numpy as np\n",
    "import matplotlib.pyplot as plt\n",
    "from astropy.table import Table"
   ]
  },
  {
   "cell_type": "code",
   "execution_count": 6,
   "id": "63ace7f3",
   "metadata": {},
   "outputs": [
    {
     "data": {
      "text/plain": [
       "'\\nfor i, bins in enumerate([12, \\'scott\\', \\'freedman\\', \\'knuth\\', \\'blocks\\']):\\n    \\n    hist(Energy_ML, bins=bins, ax=ax[i], histtype=\\'stepfilled\\',\\n            alpha=0.2, density=True)\\n    ax[i].set_yscale(\\'log\\')\\n    ax[i].set_xlabel(\\'log10(Energy) (GeV)\\')\\n    ax[i].set_ylabel(\\'Entries\\')\\n    ax[i].set_title(f\\'hist(t, bins=\"{bins}\")\\',\\n                    fontdict=dict(family=\\'monospace\\'))\\n'"
      ]
     },
     "execution_count": 6,
     "metadata": {},
     "output_type": "execute_result"
    }
   ],
   "source": [
    "#Load a TF model\n",
    "models = sorted(glob.glob('./models/*.h5'))\n",
    "model_current = [models[0], models[1], models[2]] #x1.5, x1, x2\n",
    "model_name = 2\n",
    "model = tf.keras.models.load_model(model_current[model_name])\n",
    "\n",
    "#Load data\n",
    "Imgs = np.load('./Fe_Flux/data/FeFL_8-120-SCD0_imgs.npy')\n",
    "Angles = np.load('./Fe_Flux/data/FeFL_8-120-SCD0_angles.npy')\n",
    "X = Imgs\n",
    "X0 = Angles\n",
    "\n",
    "#Reshape data\n",
    "img_rows, img_cols = X[0].shape\n",
    "input_shape = (img_rows, img_cols, 1)\n",
    "X = X.reshape(X.shape[0], img_rows, img_cols, 1)\n",
    "X = X.astype('float32')\n",
    "X0 = np.reshape(Angles, (len(X0),1))\n",
    "\n",
    "#Make predictions\n",
    "prediction = model.predict([X, X0])\n",
    "Energy_ML = np.reshape(prediction, (len(prediction), ))\n",
    "\n",
    "#The histograms\n",
    "from astropy.visualization import hist\n",
    "\n",
    "#fig, ax = plt.subplots(1, 5, figsize=(16, 4))\n",
    "#fig.subplots_adjust(left=0.1, right=0.95, bottom=0.15)\n",
    "'''\n",
    "for i, bins in enumerate([12, 'scott', 'freedman', 'knuth', 'blocks']):\n",
    "    \n",
    "    hist(Energy_ML, bins=bins, ax=ax[i], histtype='stepfilled',\n",
    "            alpha=0.2, density=True)\n",
    "    ax[i].set_yscale('log')\n",
    "    ax[i].set_xlabel('log10(Energy) (GeV)')\n",
    "    ax[i].set_ylabel('Entries')\n",
    "    ax[i].set_title(f'hist(t, bins=\"{bins}\")',\n",
    "                    fontdict=dict(family='monospace'))\n",
    "'''"
   ]
  },
  {
   "cell_type": "code",
   "execution_count": 23,
   "id": "7988442d",
   "metadata": {},
   "outputs": [
    {
     "name": "stderr",
     "output_type": "stream",
     "text": [
      "No handles with labels found to put in legend.\n"
     ]
    },
    {
     "data": {
      "text/plain": [
       "Text(353.6043359375, 0.5, 'dN/dE /(GeV)')"
      ]
     },
     "execution_count": 23,
     "metadata": {},
     "output_type": "execute_result"
    },
    {
     "data": {
      "image/png": "[encoded data removed]",
      "text/plain": [
       "<Figure size 720x288 with 2 Axes>"
      ]
     },
     "metadata": {
      "needs_background": "light"
     },
     "output_type": "display_data"
    }
   ],
   "source": [
    "#https://docs.astropy.org/en/stable/api/astropy.stats.knuth_bin_width.html#astropy.stats.knuth_bin_width\n",
    "plt.figure(figsize=(10, 4))\n",
    "plt.subplot(121)\n",
    "h0 = hist(Energy_ML, bins = 'knuth', histtype='step')\n",
    "\n",
    "#modify bin width from 'knuth' to ensure each bin has >5 entries\n",
    "adj_models = [12, 13, 12]\n",
    "adj_idx = adj_models[model_name]\n",
    "bin_width = (h0[1][-1]-h0[1][-adj_idx])/3\n",
    "\n",
    "bin_append = []\n",
    "for i in [1,2,3]:\n",
    "    bin_append.append(h0[1][-adj_idx] + i*bin_width)\n",
    "bin_append = np.array(bin_append)\n",
    "\n",
    "bins = h0[1][:-adj_idx]\n",
    "bins_new = np.append(bins, bin_append)\n",
    "\n",
    "h0 = hist(Energy_ML, bins = bins_new, histtype='step')\n",
    "\n",
    "plt.yscale('log')\n",
    "plt.xlim(2.5, 6)\n",
    "plt.xlabel('log10(Energy) (GeV)')\n",
    "plt.ylabel('Entries')  \n",
    "plt.tight_layout()\n",
    "\n",
    "x0 = []\n",
    "for i in range(1, len(h0[1])):\n",
    "    x0.append( (h0[1][i] + h0[1][i-1])/2 ) #bin center in log10(GeV)\n",
    "x0 = np.array(x0)\n",
    "\n",
    "dE = []\n",
    "for j in range(1, len(h0[1])):\n",
    "    dE.append(10**h0[1][j] - 10**h0[1][j-1]) #bin size in GeV\n",
    "dE = np.array(dE)\n",
    "\n",
    "y0 = h0[0]/dE\n",
    "#Error calculation\n",
    "#https://docs.astropy.org/en/stable/api/astropy.stats.poisson_conf_interval.html\n",
    "from astropy import stats\n",
    "\n",
    "y0_lo_err0 = y0 - (stats.poisson_conf_interval(h0[0], interval='frequentist-confidence'))[0]/dE\n",
    "y0_up_err0 = (stats.poisson_conf_interval(h0[0], interval='frequentist-confidence'))[1]/dE - y0\n",
    "y0_up_err1 = (stats.poisson_conf_interval(h0[0], interval='frequentist-confidence',sigma=2))[1]/dE - y0\n",
    "\n",
    "plt.subplot(122)\n",
    "\n",
    "zero_data = np.logical_not(y0.astype('bool')) #data points with zero entries\n",
    "zero_idx = np.where(zero_data==True)[0]\n",
    "x_zero_data = x0[zero_idx]\n",
    "y_zero_data = y0_up_err1[zero_idx]\n",
    "uplims = np.array([1 for _ in range(len(zero_idx))], dtype=bool)\n",
    "\n",
    "idx = np.where(y0.astype('bool')==True)[0] #data points with non-zero entries\n",
    "\n",
    "plt.errorbar(x0[idx], y0[idx], yerr = [y0_lo_err0[idx], y0_up_err0[idx]], marker='o', linestyle='')\n",
    "#plt.errorbar(x_zero_data, y_zero_data, yerr = y_zero_data/1.5, uplims=uplims, marker=7,linestyle='')\n",
    "\n",
    "plt.yscale('log')\n",
    "plt.xlim(2.5, 6)\n",
    "#plt.ylim(1e-6, 1)\n",
    "plt.tight_layout()\n",
    "plt.legend()\n",
    "\n",
    "plt.xlabel('log10(Energy) (GeV)')\n",
    "plt.ylabel('dN/dE /(GeV)') "
   ]
  },
  {
   "cell_type": "code",
   "execution_count": 15,
   "id": "f9b884ab",
   "metadata": {},
   "outputs": [
    {
     "data": {
      "text/plain": [
       "array([5.3451242, 5.0355425, 5.0740376], dtype=float32)"
      ]
     },
     "execution_count": 15,
     "metadata": {},
     "output_type": "execute_result"
    }
   ],
   "source": [
    "Energy_ML[np.where(Energy_ML>5)[0]]"
   ]
  },
  {
   "cell_type": "code",
   "execution_count": 30,
   "id": "bfd6f45a",
   "metadata": {},
   "outputs": [
    {
     "data": {
      "text/plain": [
       "Text(0.5, 1.0, 'Fe flux')"
      ]
     },
     "execution_count": 30,
     "metadata": {},
     "output_type": "execute_result"
    },
    {
     "data": {
      "image/png": "[encoded data removed]",
      "text/plain": [
       "<Figure size 576x432 with 1 Axes>"
      ]
     },
     "metadata": {
      "needs_background": "light"
     },
     "output_type": "display_data"
    }
   ],
   "source": [
    "x = x0\n",
    "\n",
    "A0 = 0.364358\n",
    "A1 = 3.29957\n",
    "A2 = 0.135761\n",
    "G = A0*(1 - np.exp(-(x-A1)/A2))*np.heaviside(x-A1, 0)\n",
    "\n",
    "#t = 13996800\n",
    "t = 6938784\n",
    "#e = 0.32*0.40\n",
    "B0 = 0.60986744\n",
    "B1 = 3.30849844\n",
    "B2 = 0.11200669\n",
    "e_cut = B0*(1 - np.exp(-(x-B1)/B2))*np.heaviside(x-B1, 0)\n",
    "e = 0.45*e_cut # 8-120 + charge selection (24.5 < Z of SCD0 < 28)\n",
    "\n",
    "y = y0/(e*G*t)\n",
    "\n",
    "#Don't propagate systematic error to statistical error!!\n",
    "e_err = 0.2*e\n",
    "G_err = 0.15*0.35\n",
    "t_err = 0.15*t\n",
    "#y_err_up = abs(y)*np.sqrt( (y0_up_err0/y0)**2 + (e_err/e)**2 + (G_err/0.35)**2 + (t_err/t)**2 )\n",
    "#y_err_lo = abs(y)*np.sqrt( (y0_lo_err0/y0)**2 + (e_err/e)**2 + (G_err/0.35)**2 + (t_err/t)**2 )\n",
    "\n",
    "y_err_up = y0_up_err0/(e*G*t)\n",
    "y_err_lo = y0_lo_err0/(e*G*t)\n",
    "\n",
    "\n",
    "#plot data\n",
    "plt.figure(figsize=(8,6))\n",
    "\n",
    "start_model = [7, 8 ,5]\n",
    "start_idx = start_model[model_name]\n",
    "\n",
    "#plot reference power law\n",
    "phi0 = 1.78*1e-2\n",
    "E = np.logspace(2,6) #in GeV\n",
    "a = 2.63\n",
    "phi = 1e-3*phi0*(E/1e3)**(-a)\n",
    "plt.plot(np.log10(E), phi, linestyle='dashed', color='C1',label='Power-law reference')\n",
    "\n",
    "#reference experiments\n",
    "#calet = Table.read('/Volumes/Others/backup/ML_regression_new/Fe_flux_compare/CALET_iron_2021.dat', format='ascii')\n",
    "#ams = Table.read('/Volumes/Others/backup/ML_regression_new/Fe_flux_compare/table-si.csv', format='ascii')\n",
    "#cream = Table.read('/Volumes/Others/backup/ML_regression_new/Fe_flux_compare/cream_ii.txt', format='ascii')\n",
    "\n",
    "#CALET\n",
    "#calet_E = (calet['col1']+calet['col2'])/2\n",
    "#plt.errorbar( np.log10(calet_E)+np.log10(56), calet['col3']/56, \n",
    "#              yerr=calet['col4']/56, ls='none', color='b', marker='P', label='CALET')\n",
    "#CREAM-II\n",
    "#cream_E = cream['Kinetic_Energy_(GeV/n)']\n",
    "#plt.errorbar( np.log10(cream_E)+np.log10(56), cream['Intensity_(m2_sr_s_GeV/n)-1']/56,\n",
    "#              yerr=[cream['lo_error']/56, cream['up_error']/56], \n",
    "#              ls='none', color='g', marker='s', label='CREAM-II')\n",
    "#AMS\n",
    "#ams_R = (ams['rigidity_max GV'] + ams['rigidity_min GV'])/2\n",
    "#ams_E = ams_R*26\n",
    "\n",
    "#plt.errorbar( np.log10(ams_E), ams['iron_flux m^-2sr^-1s^-1GV^-1']/26,\n",
    "#              yerr=ams['iron_flux_error_statistical m^-2sr^-1s^-1GV^-1']/26, \n",
    "#              ls='none',color='c', marker='*',label='AMS-02')\n",
    "\n",
    "\n",
    "#ISS-CREAM\n",
    "plt.errorbar(x0[start_idx:], y[start_idx:], \\\n",
    "             yerr=[y_err_lo[start_idx:], y_err_up[start_idx:]], \\\n",
    "             marker='o', linestyle='',color='red', label='ISS-CREAM')\n",
    "#plt.errorbar(x_zero_data, y_zero_data/(0.61*0.35*t), \\\n",
    "#             yerr = y_zero_data/(0.61*0.35*t)/1.5, uplims=uplims, marker=7,linestyle='',color='red',)\n",
    "'''\n",
    "#plot systematic upper error due to energy scale (x2, or x12)\n",
    "systematic1_up_x, systematic1_up_y = np.load('./Fe_Flux/result/systematic_up.npy', allow_pickle=True)\n",
    "x1, x2 = x0[start_idx:], systematic1_up_x\n",
    "y1, y2 = y[start_idx:], systematic1_up_y\n",
    "plt.fill(np.append(x1, x2[::-1]), np.append(y1, y2[::-1]), 'aquamarine', label='Systematic (E calibration)')\n",
    "\n",
    "#plot systematic lower error due to energy scale (x0.5, or x3)\n",
    "x5, x6 = x0[start_idx-1:]-0.14, x0[start_idx:]\n",
    "flux_lower_factor = np.random.random_sample(len(y[start_idx-1:],))*(1.4-1.3)+1.3\n",
    "y5, y6 = y[start_idx-1:]/flux_lower_factor, y[start_idx:]\n",
    "plt.fill(np.append(x5, x6[::-1]), np.append(y5, y6[::-1]), 'aquamarine')\n",
    "\n",
    "'''\n",
    "#plot systematic error due to livetime and GF\n",
    "systematic2_y = abs(y)*np.sqrt( (e_err/e)**2 + (G_err/0.35)**2 + (t_err/t)**2 )\n",
    "x3 = x0[start_idx:]\n",
    "y3, y4 = y[start_idx:] - systematic2_y[start_idx:], y[start_idx:] + systematic2_y[start_idx:]\n",
    "plt.fill(np.append(x3, x3[::-1]), np.append(y3, y4[::-1]), 'yellow', label='Systematic (others)')\n",
    "\n",
    "\n",
    "#plot fitted line\n",
    "#plt.plot(np.log10(E)[fit_idx], fit_func(E[fit_idx], best_pars[0], best_pars[1]), \\\n",
    "#         color = 'black', label='Power-law fit') \n",
    "\n",
    "\n",
    "plt.yscale('log')\n",
    "plt.xlim(2.5, 6)\n",
    "plt.ylim(1e-12, 1e-4)\n",
    "plt.legend(fontsize=12)\n",
    "plt.xlabel(r'$\\rm log_{10}$(Energy) (GeV)',fontsize=14)\n",
    "plt.ylabel(r'Flux $(\\rm s\\ m^2\\ sr\\ GeV)^{-1}$',fontsize=14)\n",
    "plt.rc('xtick', labelsize=16) \n",
    "plt.rc('ytick', labelsize=16) \n",
    "plt.title('Fe flux',fontsize=18)"
   ]
  },
  {
   "cell_type": "code",
   "execution_count": 14,
   "id": "0db0bf0d",
   "metadata": {},
   "outputs": [
    {
     "data": {
      "text/plain": [
       "array([3.93442661, 4.02543936, 4.11645211, 4.20746487, 4.42362015,\n",
       "       4.71941159])"
      ]
     },
     "execution_count": 14,
     "metadata": {},
     "output_type": "execute_result"
    }
   ],
   "source": [
    "x0[start_idx:-2]"
   ]
  },
  {
   "cell_type": "code",
   "execution_count": 15,
   "id": "6f459221",
   "metadata": {},
   "outputs": [
    {
     "data": {
      "text/plain": [
       "array([2.        , 2.08163265, 2.16326531, 2.24489796, 2.32653061,\n",
       "       2.40816327, 2.48979592, 2.57142857, 2.65306122, 2.73469388,\n",
       "       2.81632653, 2.89795918, 2.97959184, 3.06122449, 3.14285714,\n",
       "       3.2244898 , 3.30612245, 3.3877551 , 3.46938776, 3.55102041,\n",
       "       3.63265306, 3.71428571, 3.79591837, 3.87755102, 3.95918367,\n",
       "       4.04081633, 4.12244898, 4.20408163, 4.28571429, 4.36734694,\n",
       "       4.44897959, 4.53061224, 4.6122449 , 4.69387755, 4.7755102 ,\n",
       "       4.85714286, 4.93877551, 5.02040816, 5.10204082, 5.18367347,\n",
       "       5.26530612, 5.34693878, 5.42857143, 5.51020408, 5.59183673,\n",
       "       5.67346939, 5.75510204, 5.83673469, 5.91836735, 6.        ])"
      ]
     },
     "execution_count": 15,
     "metadata": {},
     "output_type": "execute_result"
    }
   ],
   "source": [
    "np.log10(E)"
   ]
  },
  {
   "cell_type": "code",
   "execution_count": 32,
   "id": "652a9339",
   "metadata": {},
   "outputs": [],
   "source": [
    "np.save('./Fe_Flux/result/x2_PL_fit.npy', [best_pars[0], best_pars[1]])"
   ]
  },
  {
   "cell_type": "code",
   "execution_count": 30,
   "id": "ed2597a7",
   "metadata": {},
   "outputs": [
    {
     "name": "stdout",
     "output_type": "stream",
     "text": [
      "Phi0= 0.03301950967592705 alpha= 2.8443250942871816 Phi0_err= 0.011542825509829359 alpha_err= 0.13350102896103505\n"
     ]
    },
    {
     "data": {
      "image/png": "[encoded data removed]",
      "text/plain": [
       "<Figure size 576x432 with 1 Axes>"
      ]
     },
     "metadata": {
      "needs_background": "light"
     },
     "output_type": "display_data"
    }
   ],
   "source": [
    "# Define the fit function\n",
    "def fit_func(x, Phi0, alpha):\n",
    "    return 1e-3*Phi0*(x/1e3)**(-alpha)\n",
    "\n",
    "# Fit the function to data\n",
    "from scipy.optimize import curve_fit\n",
    "\n",
    "err = (y_err_up + y_err_lo)/2\n",
    "best_pars, covss = curve_fit(fit_func, 10**x0[start_idx:], y[start_idx:],\\\n",
    "                             sigma=err[start_idx:], absolute_sigma=True)\n",
    "\n",
    "plt.figure(figsize=(8,6))\n",
    "\n",
    "#plot reference power law\n",
    "phi0 = 1.78*1e-2\n",
    "E = np.logspace(2,6) #in GeV\n",
    "a = 2.6\n",
    "phi = 1e-3*phi0*(E/1e3)**(-a)\n",
    "\n",
    "plt.plot(np.log10(E), phi, linestyle='dashed', color='C1', label='Power-law reference')\n",
    "\n",
    "plt.errorbar(x0[start_idx:], y[start_idx:], yerr=[y_err_lo[start_idx:], y_err_up[start_idx:]], marker='o', linestyle='',color='red',)\n",
    "\n",
    "fit_idx = np.where ((np.log10(E) > 3.85) & (np.log10(E) < 5.5 )) [0] #only cover data points\n",
    "plt.plot(np.log10(E)[fit_idx], fit_func(E[fit_idx], best_pars[0], best_pars[1]), label='Power-law fit') \n",
    "\n",
    "plt.yscale('log')\n",
    "plt.xlim(2.5, 6)\n",
    "plt.ylim(1e-12, 1e-4)\n",
    "plt.legend()\n",
    "plt.xlabel(r'$\\rm log_{10}$(Energy) (GeV)')\n",
    "plt.ylabel(r'Flux $(\\rm s\\ m^2\\ sr\\ GeV)^{-1}$')\n",
    "plt.title('Fe flux')\n",
    "\n",
    "print('Phi0=',best_pars[0], 'alpha=', best_pars[1], \\\n",
    "      'Phi0_err=', np.sqrt(covss[0][0]),'alpha_err=',np.sqrt(covss[1][1]))"
   ]
  },
  {
   "cell_type": "code",
   "execution_count": null,
   "id": "161b5bde",
   "metadata": {},
   "outputs": [],
   "source": [
    "systematic_up = [x0[start_idx:], y[start_idx:]]\n",
    "np.save('./Fe_Flux/result/systematic_up.npy', systematic_up)"
   ]
  },
  {
   "cell_type": "code",
   "execution_count": 18,
   "id": "8e74377f",
   "metadata": {},
   "outputs": [
    {
     "name": "stdout",
     "output_type": "stream",
     "text": [
      "Flux: 8.97e-08 Lower: 1.36e-08 Upper: 1.59e-08\n",
      "Flux: 5.61e-08 Lower: 9.58e-09 Upper: 1.14e-08\n",
      "Flux: 3.22e-08 Lower: 6.53e-09 Upper: 8.01e-09\n",
      "Flux: 1.88e-08 Lower: 4.52e-09 Upper: 5.77e-09\n",
      "Flux: 1.29e-08 Lower: 3.41e-09 Upper: 4.45e-09\n",
      "Flux: 2.46e-09 Lower: 5.90e-10 Upper: 7.52e-10\n",
      "Flux: 6.30e-10 Lower: 2.50e-10 Upper: 3.76e-10\n",
      "Flux: 3.10e-10 Lower: 1.34e-10 Upper: 2.10e-10\n",
      "Flux: 3.67e-11 Lower: 3.03e-11 Upper: 8.43e-11\n"
     ]
    }
   ],
   "source": [
    "#print energy bin and flux\n",
    "for j in range(len(y[start_idx:])):\n",
    "    y_sn = \"{:.2e}\".format(y[start_idx:][j])\n",
    "    y_err_lo_sn = \"{:.2e}\".format(y_err_lo[start_idx:][j])\n",
    "    y_err_up_sn = \"{:.2e}\".format(y_err_up[start_idx:][j])\n",
    "\n",
    "    print( 'Flux:', y_sn,'Lower:', y_err_lo_sn, 'Upper:', y_err_up_sn)"
   ]
  },
  {
   "cell_type": "code",
   "execution_count": 29,
   "id": "7df3478a",
   "metadata": {},
   "outputs": [
    {
     "data": {
      "text/plain": [
       "array([ 4092.97341833,  4877.34402957,  5812.03011881,  6925.83789397,\n",
       "        8253.09393671,  9834.70311766, 19830.74903599, 33556.18009252,\n",
       "       56781.37625354, 96081.39783359])"
      ]
     },
     "execution_count": 29,
     "metadata": {},
     "output_type": "execute_result"
    }
   ],
   "source": [
    "10**h0[1][start_idx:]"
   ]
  },
  {
   "cell_type": "code",
   "execution_count": 23,
   "id": "a281ec3d",
   "metadata": {},
   "outputs": [
    {
     "data": {
      "text/plain": [
       "array([ 4467.97934922,  5324.21547269,  6344.53926126,  7560.39620188,\n",
       "        9009.25794224, 13965.29732479, 25796.20487632, 43650.49928082,\n",
       "       73862.2637167 ])"
      ]
     },
     "execution_count": 23,
     "metadata": {},
     "output_type": "execute_result"
    }
   ],
   "source": [
    "10**x0[start_idx:]"
   ]
  },
  {
   "cell_type": "code",
   "execution_count": null,
   "id": "45f3b301",
   "metadata": {},
   "outputs": [],
   "source": []
  }
 ],
 "metadata": {
  "kernelspec": {
   "display_name": "Python 3",
   "language": "python",
   "name": "python3"
  },
  "language_info": {
   "codemirror_mode": {
    "name": "ipython",
    "version": 3
   },
   "file_extension": ".py",
   "mimetype": "text/x-python",
   "name": "python",
   "nbconvert_exporter": "python",
   "pygments_lexer": "ipython3",
   "version": "3.9.5"
  }
 },
 "nbformat": 4,
 "nbformat_minor": 5
}
